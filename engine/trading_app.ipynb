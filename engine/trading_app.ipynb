{
 "cells": [
  {
   "cell_type": "code",
   "execution_count": 1,
   "metadata": {},
   "outputs": [],
   "source": [
    "import pandas as pd\n",
    "import numpy as np\n",
    "import sys,requests\n",
    "import time\n",
    "import urllib.parse\n",
    "import pandas as pd\n",
    "from pandas.io.json import json_normalize"
   ]
  },
  {
   "cell_type": "code",
   "execution_count": 2,
   "metadata": {},
   "outputs": [],
   "source": [
    "# IG rest API parameters\n",
    "\n",
    "rest_api_key = \"Hidden\"\n",
    "rest_identifier = \"Hidden\"\n",
    "rest_password = \"Hidden\"\n",
    "\n",
    "rest_url = \"https://demo-api.ig.com/gateway/deal/session\"\n",
    "\n",
    "headers = {}\n",
    "headers[\"Content-Type\"] = \"application/json; charset=UTF-8\"\n",
    "headers[\"Accept\"] = \"application/json; charset=UTF-8\"\n",
    "headers [\"X-IG-API-KEY\"] = rest_api_key\n",
    "headers [\"Version\"] = \"2\"\n",
    "\n",
    "request_json = {}\n",
    "request_json[\"identifier\"] = rest_identifier\n",
    "request_json[\"password\"] = rest_password\n",
    "\n",
    "rest_response = requests.request(\"POST\", rest_url, headers=headers, json=request_json)\n",
    "if rest_response.status_code != 200:\n",
    "    print(\"error\", rest_response.status_code, rest_url, rest_response.text)\n",
    "    sys.exit(0)\n",
    "    \n",
    "# collect params from login response\n",
    "\n",
    "xst = rest_response.headers[\"X-SECURITY-TOKEN\"]\n",
    "cst = rest_response.headers[\"CST\"]"
   ]
  },
  {
   "cell_type": "code",
   "execution_count": 3,
   "metadata": {},
   "outputs": [],
   "source": [
    "# Get accounts list\n",
    "headers[\"X-SECURITY-TOKEN\"] = xst\n",
    "headers[\"CST\"] = cst\n",
    "headers[\"Version\"] = \"1\"\n",
    "accounts = requests.request(\"GET\", \"https://demo-api.ig.com/gateway/deal/accounts\", headers=headers,\\\n",
    "                            json=request_json)\n",
    "if accounts.status_code != 200:\n",
    "    print(\"error\", accounts.status_code, accounts.text)"
   ]
  },
  {
   "cell_type": "code",
   "execution_count": 4,
   "metadata": {},
   "outputs": [],
   "source": [
    "# Check account type is spreadbet, otherwise switch accounts\n",
    "if rest_response.json()['accountType'] == 'SPREADBET':\n",
    "    pass\n",
    "else:\n",
    "    account_json = {}\n",
    "    account_json[\"accountId\"] = \"Hidden\"\n",
    "    swtich_response = requests.request(\"PUT\", \"https://demo-api.ig.com/gateway/deal/session/\", headers=headers,\\\n",
    "                                  json=account_json)\n",
    "    if swtich_response.status_code != 200:\n",
    "        print(\"error\", switch_reponse.status_code, switch_response.text)"
   ]
  },
  {
   "cell_type": "code",
   "execution_count": 9,
   "metadata": {},
   "outputs": [
    {
     "name": "stdout",
     "output_type": "stream",
     "text": [
      "error 400 {\"errorCode\":\"validation.null-not-allowed.request.forceOpen\"}\n"
     ]
    }
   ],
   "source": [
    "# Place trade on US 500\n",
    "headers[\"Version\"] = \"2\"\n",
    "order = {\n",
    "    \"epic\": \"IX.D.SPTRD.DAILY.IP\",\n",
    "    \"expiry\": None,\n",
    "    \"direction\": \"BUY\",\n",
    "    \"size\": \"0.5\",\n",
    "    \"orderType\": None,\n",
    "    \"timeInForce\": None,\n",
    "    \"level\": None,\n",
    "    \"guaranteedStop\": None,\n",
    "    \"stopLevel\": None,\n",
    "    \"stopDistance\": None,\n",
    "    \"trailingStop\": None,\n",
    "    \"trailingStopIncrement\": None,\n",
    "    \"forceOpen\": None,\n",
    "    \"limitLevel\": None,\n",
    "    \"limitDistance\": None,\n",
    "    \"quoteId\": None,\n",
    "    \"currencyCode\": \"GBP\"\n",
    "}\n",
    "\n",
    "create_position = requests.request(\"POST\", \"https://demo-api.ig.com/gateway/deal/positions/otc\", headers=headers,\\\n",
    "                                  json=order)\n",
    "\n",
    "if create_position.status_code != 200:\n",
    "    print(\"error\", create_position.status_code, create_position.text)"
   ]
  },
  {
   "cell_type": "code",
   "execution_count": 11,
   "metadata": {},
   "outputs": [
    {
     "name": "stdout",
     "output_type": "stream",
     "text": [
      "error 400 {\"errorCode\":\"validation.null-not-allowed.request\"}\n"
     ]
    }
   ],
   "source": [
    "# Close position on US 500\n",
    "headers[\"Version\"] = \"1\"\n",
    "close = {\n",
    "    \"dealId\": None,\n",
    "    \"epic\": \"IX.D.SPTRD.DAILY.IP\",\n",
    "    \"expiry\": None,\n",
    "    \"direction\": None,\n",
    "    \"size\": \"0.5\",\n",
    "    \"level\": None,\n",
    "    \"orderType\": None,\n",
    "    \"timeInForce\": None,\n",
    "    \"quoteId\": None\n",
    "}\n",
    "\n",
    "close_position = requests.request(\"DELETE\", \"https://demo-api.ig.com/gateway/deal/positions/otc\", headers=headers,\\\n",
    "                                 json=close)\n",
    "\n",
    "if close_position.status_code != 200:\n",
    "    print(\"error\", close_position.status_code, close_position.text)"
   ]
  },
  {
   "cell_type": "code",
   "execution_count": 14,
   "metadata": {},
   "outputs": [],
   "source": [
    "# End session\n",
    "headers[\"Version\"] = \"1\"\n",
    "log_out_details = {}\n",
    "\n",
    "log_out = requests.request(\"DELETE\", \"https://demo-api.ig.com/gateway/session\", headers=headers,\\\n",
    "                          json=log_out_details)\n",
    "if log_out.status_code != 200:\n",
    "    print(\"error\", log_out.status_code, log_out.text)"
   ]
  },
  {
   "cell_type": "code",
   "execution_count": 7,
   "metadata": {},
   "outputs": [],
   "source": [
    "### Use this code to download historical data ###\n",
    "headers[\"Version\"] = \"2\"\n",
    "\n",
    "# S&P 500 = \"IX.D.SPTRD.DAILY.IP\"\n",
    "# FTSE 100 = \"IX.D.FTSE.DAILY.IP\"\n",
    "\n",
    "epic = \"IX.D.FTSE.DAILY.IP\"\n",
    "resolution = \"MINUTE_5\"\n",
    "start_date = \"2020-02-04 02:00:00\"\n",
    "end_date = \"2020-03-20 02:00:00\"\n",
    "\n",
    "data_url = f\"https://demo-api.ig.com/gateway/deal/prices/{epic}/{resolution}/{start_date}/{end_date}\"\n",
    "\n",
    "historical_data = requests.request(\"GET\", data_url, headers=headers)\n",
    "\n",
    "if historical_data.status_code != 200:\n",
    "    print(\"error\", historical_data.status_code, historical_data.text)"
   ]
  },
  {
   "cell_type": "code",
   "execution_count": 8,
   "metadata": {},
   "outputs": [],
   "source": [
    "# Convert historical data to pandas dataframe and export\n",
    "t = time.localtime()\n",
    "current_time = time.strftime(\"%M%H%d%m%y\", t)\n",
    "data = historical_data.json()['prices']\n",
    "\n",
    "df = pd.DataFrame.from_dict(json_normalize(data), orient='columns')\n",
    "\n",
    "df.to_csv(f'Hidden.csv', encoding=\"UTF-8\")"
   ]
  },
  {
   "cell_type": "code",
   "execution_count": null,
   "metadata": {},
   "outputs": [],
   "source": []
  }
 ],
 "metadata": {
  "kernelspec": {
   "display_name": "Python 3",
   "language": "python",
   "name": "python3"
  },
  "language_info": {
   "codemirror_mode": {
    "name": "ipython",
    "version": 3
   },
   "file_extension": ".py",
   "mimetype": "text/x-python",
   "name": "python",
   "nbconvert_exporter": "python",
   "pygments_lexer": "ipython3",
   "version": "3.7.4"
  }
 },
 "nbformat": 4,
 "nbformat_minor": 2
}
